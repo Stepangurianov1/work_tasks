{
 "cells": [
  {
   "cell_type": "code",
   "id": "initial_id",
   "metadata": {
    "collapsed": true,
    "ExecuteTime": {
     "end_time": "2025-08-11T11:27:30.924014Z",
     "start_time": "2025-08-11T11:27:30.812764Z"
    }
   },
   "source": [
    "import pandas as pd\n",
    "import psycopg2\n",
    "from sqlalchemy import create_engine"
   ],
   "outputs": [],
   "execution_count": 13
  },
  {
   "metadata": {
    "ExecuteTime": {
     "end_time": "2025-08-11T11:25:01.338136Z",
     "start_time": "2025-08-11T11:25:01.333304Z"
    }
   },
   "cell_type": "code",
   "source": [
    "def create_conn_dwh():\n",
    "    connection = psycopg2.connect(\n",
    "        dbname='postgres',\n",
    "        user='ste',\n",
    "        password='ILzAYQ72aEe9',\n",
    "        host='primarydwhcsd.aerxd.tech',\n",
    "        port=6432\n",
    "    )\n",
    "    return connection\n",
    "\n",
    "def create_connection():\n",
    "    return psycopg2.connect(\n",
    "        dbname='csd_bi',\n",
    "        user='datalens_utl',\n",
    "        password='mQnXQaHP6zkOaFdTLRVLx40gT4',\n",
    "        host='138.68.88.175',\n",
    "        port=5432\n",
    "    )\n",
    "\n",
    "def run_query_with_conn(conn, query):\n",
    "    with conn.cursor() as cursor:\n",
    "        cursor.execute(query)\n",
    "        rows = cursor.fetchall()\n",
    "        columns = [desc[0] for desc in cursor.description]\n",
    "        df = pd.DataFrame(rows, columns=columns)\n",
    "    return df"
   ],
   "id": "8203b6ee1a573cd4",
   "outputs": [],
   "execution_count": 5
  },
  {
   "metadata": {
    "ExecuteTime": {
     "end_time": "2025-08-11T11:25:05.613167Z",
     "start_time": "2025-08-11T11:25:05.611084Z"
    }
   },
   "cell_type": "code",
   "source": [
    "query_get_data = \"\"\"\n",
    "    select\n",
    "        extra -> 'cardDetails' ->> 'pan' as pan,\n",
    "        i.created_at,\n",
    "        COUNT(i.id) as orders_count\n",
    "    from orders.invoice i\n",
    "    JOIN lists.invoice_order_type_list iotl ON i.order_type_id = iotl.id\n",
    "    where i.created_at >= '2025-08-01' and iotl.system_name ILIKE '%H2H%'\n",
    "    group by\n",
    "        extra -> 'cardDetails' ->> 'pan',\n",
    "        i.created_at\n",
    "    order by COUNT(i.id) desc\n",
    "\"\"\"\n"
   ],
   "id": "10054d56a87ac84c",
   "outputs": [],
   "execution_count": 6
  },
  {
   "metadata": {
    "ExecuteTime": {
     "end_time": "2025-08-11T11:26:17.619109Z",
     "start_time": "2025-08-11T11:26:16.870497Z"
    }
   },
   "cell_type": "code",
   "source": "connection = create_connection()\n",
   "id": "1026eb3d5ab04fa8",
   "outputs": [],
   "execution_count": 9
  },
  {
   "metadata": {
    "ExecuteTime": {
     "end_time": "2025-08-11T11:26:59.806956Z",
     "start_time": "2025-08-11T11:26:45.811131Z"
    }
   },
   "cell_type": "code",
   "source": "data = run_query_with_conn(connection, query_get_data)",
   "id": "a420e53194a8d5f2",
   "outputs": [],
   "execution_count": 12
  },
  {
   "metadata": {
    "ExecuteTime": {
     "end_time": "2025-08-11T11:27:34.422254Z",
     "start_time": "2025-08-11T11:27:34.389176Z"
    }
   },
   "cell_type": "code",
   "source": [
    "engine = create_engine('postgresql://{user}:{password}@{host}:{port}/postgres'.format(\n",
    "        user='ste',\n",
    "        password='ILzAYQ72aEe9',\n",
    "        host='primarydwhcsd.aerxd.tech',\n",
    "        port=6432)\n",
    "    )"
   ],
   "id": "b0160c8f9b558e2e",
   "outputs": [],
   "execution_count": 14
  },
  {
   "metadata": {
    "ExecuteTime": {
     "end_time": "2025-08-11T11:29:04.472141Z",
     "start_time": "2025-08-11T11:28:20.474131Z"
    }
   },
   "cell_type": "code",
   "source": [
    "data.to_sql(\n",
    "            schema='cascade',\n",
    "            name='cards_info_sg',\n",
    "            if_exists='append',\n",
    "            con=engine,\n",
    "            index=False\n",
    "        )"
   ],
   "id": "701badf96ad12156",
   "outputs": [
    {
     "data": {
      "text/plain": [
       "644"
      ]
     },
     "execution_count": 16,
     "metadata": {},
     "output_type": "execute_result"
    }
   ],
   "execution_count": 16
  },
  {
   "metadata": {},
   "cell_type": "code",
   "outputs": [],
   "execution_count": null,
   "source": "",
   "id": "1b52abfa532dc47b"
  }
 ],
 "metadata": {
  "kernelspec": {
   "display_name": "Python 3",
   "language": "python",
   "name": "python3"
  },
  "language_info": {
   "codemirror_mode": {
    "name": "ipython",
    "version": 2
   },
   "file_extension": ".py",
   "mimetype": "text/x-python",
   "name": "python",
   "nbconvert_exporter": "python",
   "pygments_lexer": "ipython2",
   "version": "2.7.6"
  }
 },
 "nbformat": 4,
 "nbformat_minor": 5
}
